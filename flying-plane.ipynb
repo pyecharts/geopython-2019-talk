{
 "cells": [
  {
   "cell_type": "markdown",
   "metadata": {
    "slideshow": {
     "slide_type": "slide"
    }
   },
   "source": [
    "<img src=\"images/flying-demo.JPG\">"
   ]
  },
  {
   "cell_type": "markdown",
   "metadata": {},
   "source": [
    "# pip install pyecharts"
   ]
  },
  {
   "cell_type": "code",
   "execution_count": null,
   "metadata": {
    "slideshow": {
     "slide_type": "slide"
    }
   },
   "outputs": [],
   "source": [
    "from pyecharts.charts import Geo\n",
    "from pyecharts import options as opts\n",
    "\n",
    "g = (Geo(init_opts=opts.InitOpts(width=\"700px\"))\n",
    "    .add_schema(maptype=\"world\", center=[6, 50.4], zoom=12))\n",
    "g.render_notebook()"
   ]
  },
  {
   "cell_type": "code",
   "execution_count": null,
   "metadata": {
    "slideshow": {
     "slide_type": "slide"
    }
   },
   "outputs": [],
   "source": [
    "from pyecharts.globals import ChartType\n",
    "\n",
    "g.add_coordinate(\"London\", -0.1231, 51.51).add_coordinate(\"Bazel\", 7.58, 47.5)\n",
    "\n",
    "g.add(\"\", [(\"London\", 0), (\"Bazel\", 0)],\n",
    "    type_=ChartType.EFFECT_SCATTER, color=\"red\",\n",
    "    label_opts=opts.LabelOpts(formatter=\"{b}\"))\n",
    "g.render_notebook()"
   ]
  },
  {
   "cell_type": "markdown",
   "metadata": {
    "slideshow": {
     "slide_type": "slide"
    }
   },
   "source": [
    "# My plane\n",
    "\n",
    "<img src=\"https://image.flaticon.com/icons/svg/776/776503.svg\" width=150>"
   ]
  },
  {
   "cell_type": "code",
   "execution_count": null,
   "metadata": {
    "slideshow": {
     "slide_type": "slide"
    }
   },
   "outputs": [],
   "source": [
    "g.add(\"my flight route\", [(\"London\", \"Bazel\")], type_=ChartType.LINES,\n",
    "    effect_opts=opts.EffectOpts(\n",
    "        symbol=\"image://https://image.flaticon.com/icons/svg/776/776503.svg\",\n",
    "        symbol_size=30, color=\"blue\"\n",
    "    ),\n",
    "    linestyle_opts=opts.LineStyleOpts(curve=0.2))\n",
    "g.render_notebook()"
   ]
  }
 ],
 "metadata": {
  "celltoolbar": "Slideshow",
  "kernelspec": {
   "display_name": "Python 3",
   "language": "python",
   "name": "python3"
  },
  "language_info": {
   "codemirror_mode": {
    "name": "ipython",
    "version": 3
   },
   "file_extension": ".py",
   "mimetype": "text/x-python",
   "name": "python",
   "nbconvert_exporter": "python",
   "pygments_lexer": "ipython3",
   "version": "3.7.2"
  }
 },
 "nbformat": 4,
 "nbformat_minor": 2
}
